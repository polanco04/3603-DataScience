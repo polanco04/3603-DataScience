{
  "cells": [
    {
      "cell_type": "markdown",
      "id": "4c1f54f7",
      "metadata": {
        "colab_type": "text",
        "id": "view-in-github"
      },
      "source": [
        "<a href=\"https://colab.research.google.com/github/polanco04/polanco04-3603-DataScience/blob/main/Assignments/00-StartHere/01-Colab_Intro.ipynb\" target=\"_parent\"><img src=\"https://colab.research.google.com/assets/colab-badge.svg\" alt=\"Open In Colab\"/></a>"
      ]
    },
    {
      "cell_type": "markdown",
      "id": "7f412148",
      "metadata": {
        "id": "7f412148"
      },
      "source": [
        "# 📘 01 - Colab Intro\n",
        "\n",
        "Welcome to your first notebook in Google Colab!"
      ]
    },
    {
      "cell_type": "markdown",
      "id": "216c53ab",
      "metadata": {
        "id": "216c53ab"
      },
      "source": [
        "## ✅ Learning Goals\n",
        "- Run cells in a notebook\n",
        "- Edit Markdown and code\n",
        "- Save a copy to your own Drive"
      ]
    },
    {
      "cell_type": "code",
      "execution_count": 2,
      "id": "f7ca3562",
      "metadata": {
        "colab": {
          "base_uri": "https://localhost:8080/"
        },
        "id": "f7ca3562",
        "outputId": "f4589f13-f139-4a89-dd41-adbb92918614"
      },
      "outputs": [
        {
          "name": "stdout",
          "output_type": "stream",
          "text": [
            "Hello, Data Science World!\n"
          ]
        }
      ],
      "source": [
        "# 👋 Try running this cell!\n",
        "print('Hello, Data Science World!')"
      ]
    },
    {
      "cell_type": "markdown",
      "id": "31151db2",
      "metadata": {
        "id": "31151db2"
      },
      "source": [
        "## ✏️ Your Turn\n",
        "Modify the code below to print your name."
      ]
    },
    {
      "cell_type": "code",
      "execution_count": 1,
      "id": "aaf79c47",
      "metadata": {
        "colab": {
          "base_uri": "https://localhost:8080/"
        },
        "id": "aaf79c47",
        "outputId": "8dda84a0-8cbb-4bd2-edcb-ec7d450f029f"
      },
      "outputs": [
        {
          "name": "stdout",
          "output_type": "stream",
          "text": [
            "Carlos Polanco\n"
          ]
        }
      ],
      "source": [
        "print('Carlos Polanco')"
      ]
    },
    {
      "cell_type": "markdown",
      "id": "502b08e8",
      "metadata": {
        "id": "502b08e8"
      },
      "source": [
        "## 💾 Save a Copy\n",
        "- Go to **File > Save a copy in Colabs**.\n",
        "- Make sure it changed on your github repo.\n",
        "\n",
        "Move it to your `completed` folder."
      ]
    }
  ],
  "metadata": {
    "colab": {
      "include_colab_link": true,
      "provenance": []
    },
    "kernelspec": {
      "display_name": "Python 3",
      "name": "python3"
    },
    "language_info": {
      "name": "python"
    }
  },
  "nbformat": 4,
  "nbformat_minor": 5
}
