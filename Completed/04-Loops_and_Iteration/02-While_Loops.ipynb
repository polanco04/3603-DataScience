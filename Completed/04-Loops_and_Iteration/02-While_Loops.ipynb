{
  "cells": [
    {
      "cell_type": "markdown",
      "id": "d0fe0fb4",
      "metadata": {
        "id": "d0fe0fb4"
      },
      "source": [
        "# 📘 02 - While Loops\n",
        "\n",
        "Learn how to repeat logic using conditions."
      ]
    },
    {
      "cell_type": "markdown",
      "id": "72469f87",
      "metadata": {
        "id": "72469f87"
      },
      "source": [
        "## ✅ Learning Goals\n",
        "- Use `while` with a condition\n",
        "- Understand infinite loops and loop control"
      ]
    },
    {
      "cell_type": "code",
      "execution_count": null,
      "id": "a73a22aa",
      "metadata": {
        "id": "a73a22aa"
      },
      "outputs": [],
      "source": [
        "# 🔁 Count up to 5\n",
        "counter = 1\n",
        "while counter <= 5:\n",
        "    print('Count:', counter)\n",
        "    counter += 1"
      ]
    },
    {
      "cell_type": "code",
      "execution_count": null,
      "id": "f219e7e8",
      "metadata": {
        "id": "f219e7e8"
      },
      "outputs": [],
      "source": [
        "# 🚫 Avoid infinite loop\n",
        "x = 0\n",
        "while x < 3:\n",
        "    print('x is', x)\n",
        "    x += 1"
      ]
    },
    {
      "cell_type": "code",
      "execution_count": null,
      "id": "c4b457cd",
      "metadata": {
        "id": "c4b457cd"
      },
      "outputs": [],
      "source": [
        "# ⚠️ Break and continue\n",
        "n = 0\n",
        "while True:\n",
        "    n += 1\n",
        "    if n == 3:\n",
        "        continue\n",
        "    if n == 6:\n",
        "        break\n",
        "    print(n)"
      ]
    },
    {
      "cell_type": "markdown",
      "id": "f238b0da",
      "metadata": {
        "id": "f238b0da"
      },
      "source": [
        "### ✏️ Your Turn\n",
        "Use a while loop to print numbers 10 to 1 in reverse."
      ]
    },
    {
      "cell_type": "code",
      "source": [
        "currentNum = 10\n",
        "\n",
        "while currentNum > 0:\n",
        "  print(currentNum)\n",
        "  currentNum -= 1"
      ],
      "metadata": {
        "id": "_i_80U9dFXI_",
        "outputId": "a0d530f3-ff58-4530-cf03-8bf39a54e397",
        "colab": {
          "base_uri": "https://localhost:8080/"
        }
      },
      "id": "_i_80U9dFXI_",
      "execution_count": 1,
      "outputs": [
        {
          "output_type": "stream",
          "name": "stdout",
          "text": [
            "10\n",
            "9\n",
            "8\n",
            "7\n",
            "6\n",
            "5\n",
            "4\n",
            "3\n",
            "2\n",
            "1\n"
          ]
        }
      ]
    }
  ],
  "metadata": {
    "colab": {
      "provenance": []
    },
    "language_info": {
      "name": "python"
    },
    "kernelspec": {
      "name": "python3",
      "display_name": "Python 3"
    }
  },
  "nbformat": 4,
  "nbformat_minor": 5
}