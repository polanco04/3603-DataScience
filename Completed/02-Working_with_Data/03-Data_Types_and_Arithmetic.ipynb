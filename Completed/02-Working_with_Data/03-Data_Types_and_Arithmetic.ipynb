{
  "cells": [
    {
      "cell_type": "markdown",
      "source": [
        "Carlos Polanco"
      ],
      "metadata": {
        "id": "RuaJh1nFT7aO"
      },
      "id": "RuaJh1nFT7aO"
    },
    {
      "cell_type": "markdown",
      "id": "4b15b08b",
      "metadata": {
        "id": "4b15b08b"
      },
      "source": [
        "# 📘 03 - Data Types and Arithmetic\n",
        "\n",
        "Explore Python basics like variables, data types, and arithmetic operations."
      ]
    },
    {
      "cell_type": "markdown",
      "id": "fe930277",
      "metadata": {
        "id": "fe930277"
      },
      "source": [
        "## ✅ Learning Goals\n",
        "- Understand Python data types\n",
        "- Use variables and print statements\n",
        "- Perform basic arithmetic"
      ]
    },
    {
      "cell_type": "code",
      "execution_count": null,
      "id": "8e873f5b",
      "metadata": {
        "id": "8e873f5b"
      },
      "outputs": [],
      "source": [
        "# 🧠 Variables and Types\n",
        "x = 10\n",
        "y = 3.5\n",
        "z = 'hello'\n",
        "print(type(x), type(y), type(z))"
      ]
    },
    {
      "cell_type": "code",
      "execution_count": null,
      "id": "e90e2be4",
      "metadata": {
        "id": "e90e2be4"
      },
      "outputs": [],
      "source": [
        "# ➕ Arithmetic Operations\n",
        "print('Add:', x + y)\n",
        "print('Divide:', x / y)\n",
        "print('Floor Divide:', x // y)\n",
        "print('Exponent:', x ** 2)"
      ]
    },
    {
      "cell_type": "markdown",
      "id": "7e233e07",
      "metadata": {
        "id": "7e233e07"
      },
      "source": [
        "## ✏️ Try It Yourself\n",
        "- Create your own variables\n",
        "- Try combining numbers and strings\n",
        "- Use `input()` to interact"
      ]
    },
    {
      "cell_type": "code",
      "execution_count": 3,
      "id": "42b3fc61",
      "metadata": {
        "id": "42b3fc61",
        "outputId": "ae78978a-6b9b-4849-cb35-3ac36ad05e8a",
        "colab": {
          "base_uri": "https://localhost:8080/"
        }
      },
      "outputs": [
        {
          "output_type": "stream",
          "name": "stdout",
          "text": [
            "What is your name? Carlos\n",
            "Welcome, Carlos\n",
            "What Arithmetic Operations would you like to perform? Enter as symbol (+, -, /, //, **)add\n",
            "please try again. hint: use a symbol :)\n",
            "What Arithmetic Operations would you like to perform? Enter as symbol (+, -, /, //, **)-\n",
            "x - y = -5\n"
          ]
        }
      ],
      "source": [
        "x = 5\n",
        "y = 10\n",
        "name = input('What is your name? ')\n",
        "print('Welcome,', name)\n",
        "operations = {\"+\": lambda x, y: x + y,\n",
        "              \"-\": lambda x, y: x - y,\n",
        "              \"/\": lambda x, y: x / y,\n",
        "              \"//\": lambda x, y: x // y,\n",
        "              \"*\": lambda x, y: x * y,\n",
        "              \"**\": lambda x: x ** y}\n",
        "\n",
        "while True:\n",
        "  # operations between x and y\n",
        "  operation = input('What Arithmetic Operations would you like to perform? Enter as symbol (+, -, /, //, **)')\n",
        "\n",
        "  if operation in operations:\n",
        "    break\n",
        "  else:\n",
        "    print(\"please try again. hint: use a symbol :)\")\n",
        "\n",
        "if operation in operations:\n",
        "  print(f\"x {operation} y = {operations[operation](x, y)}\")\n",
        ""
      ]
    },
    {
      "cell_type": "markdown",
      "id": "069d6eba",
      "metadata": {
        "id": "069d6eba"
      },
      "source": [
        "## 📤 Submit\n",
        "Make sure your name is at the top in a Markdown cell.\n",
        "Submit via D2L or Colab link."
      ]
    }
  ],
  "metadata": {
    "colab": {
      "provenance": []
    },
    "language_info": {
      "name": "python"
    },
    "kernelspec": {
      "name": "python3",
      "display_name": "Python 3"
    }
  },
  "nbformat": 4,
  "nbformat_minor": 5
}