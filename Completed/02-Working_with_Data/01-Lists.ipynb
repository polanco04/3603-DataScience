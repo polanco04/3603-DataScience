{
  "cells": [
    {
      "cell_type": "markdown",
      "metadata": {
        "id": "view-in-github",
        "colab_type": "text"
      },
      "source": [
        "<a href=\"https://colab.research.google.com/github/polanco04/polanco04-3603-DataScience/blob/main/Completed/02-Working_with_Data/01-Lists.ipynb\" target=\"_parent\"><img src=\"https://colab.research.google.com/assets/colab-badge.svg\" alt=\"Open In Colab\"/></a>"
      ]
    },
    {
      "cell_type": "markdown",
      "id": "47f2636f",
      "metadata": {
        "id": "47f2636f"
      },
      "source": [
        "# 📘 01 - Python Lists\n",
        "\n",
        "Explore how to use lists to store and manipulate data."
      ]
    },
    {
      "cell_type": "markdown",
      "id": "d5e389b6",
      "metadata": {
        "id": "d5e389b6"
      },
      "source": [
        "## ✅ Learning Goals\n",
        "- Create and modify Python lists\n",
        "- Access elements using indexing\n",
        "- Use list methods like `append()`, `remove()`, and `sort()`"
      ]
    },
    {
      "cell_type": "code",
      "execution_count": null,
      "id": "9244ef55",
      "metadata": {
        "id": "9244ef55"
      },
      "outputs": [],
      "source": [
        "# 🔧 Create a List\n",
        "my_list = [10, 20, 30, 40, 50]\n",
        "print(my_list)"
      ]
    },
    {
      "cell_type": "code",
      "execution_count": null,
      "id": "e767a048",
      "metadata": {
        "id": "e767a048"
      },
      "outputs": [],
      "source": [
        "# 🎯 Access Elements\n",
        "print('First item:', my_list[0])\n",
        "print('Last item:', my_list[-1])"
      ]
    },
    {
      "cell_type": "code",
      "execution_count": null,
      "id": "4d9b40bd",
      "metadata": {
        "id": "4d9b40bd"
      },
      "outputs": [],
      "source": [
        "# ➕ Modify List\n",
        "my_list.append(60)\n",
        "my_list.remove(30)\n",
        "print(my_list)"
      ]
    },
    {
      "cell_type": "code",
      "execution_count": null,
      "id": "55eff36d",
      "metadata": {
        "id": "55eff36d"
      },
      "outputs": [],
      "source": [
        "# 🔁 Loop Through List\n",
        "for item in my_list:\n",
        "    print(item)"
      ]
    },
    {
      "cell_type": "markdown",
      "id": "efa1162a",
      "metadata": {
        "id": "efa1162a"
      },
      "source": [
        "## ✏️ Your Turn\n",
        "Create your own list of 5 favorite movies and sort them alphabetically."
      ]
    },
    {
      "cell_type": "code",
      "source": [
        "favMovies = [\"Wall-E\", \"Spider-Man: Across the Spiderverse\", \"An American Tail\", \"Bolt\", \"Avengers: Infinity War\" ]\n",
        "favMovies.sort()\n",
        "print(favMovies)"
      ],
      "metadata": {
        "colab": {
          "base_uri": "https://localhost:8080/"
        },
        "id": "FzfgG90_otmH",
        "outputId": "3193a298-590e-4553-8ac7-e50346b84480"
      },
      "id": "FzfgG90_otmH",
      "execution_count": 2,
      "outputs": [
        {
          "output_type": "stream",
          "name": "stdout",
          "text": [
            "['An American Tail', 'Avengers: Infinity War', 'Bolt', 'Spider-Man: Across the Spiderverse', 'Wall-E']\n"
          ]
        }
      ]
    }
  ],
  "metadata": {
    "colab": {
      "provenance": [],
      "include_colab_link": true
    },
    "language_info": {
      "name": "python"
    },
    "kernelspec": {
      "name": "python3",
      "display_name": "Python 3"
    }
  },
  "nbformat": 4,
  "nbformat_minor": 5
}