{
  "cells": [
    {
      "cell_type": "markdown",
      "metadata": {
        "id": "hcSSI2yHlxwW"
      },
      "source": [
        "# 🧙 Magic Commands Demo Notebook\n",
        "\n",
        "This notebook introduces some of the most useful **IPython magic commands** in Jupyter.  \n",
        "Run each cell and see what happens!"
      ],
      "id": "hcSSI2yHlxwW"
    },
    {
      "cell_type": "markdown",
      "metadata": {
        "id": "TfDUPk0TlxwY"
      },
      "source": [
        "## 1. Timing and Performance"
      ],
      "id": "TfDUPk0TlxwY"
    },
    {
      "cell_type": "code",
      "execution_count": 6,
      "metadata": {
        "id": "AuXdhud2lxwY",
        "outputId": "81f7fc7f-e562-4114-81f8-19b12feeed99",
        "colab": {
          "base_uri": "https://localhost:8080/"
        }
      },
      "outputs": [
        {
          "output_type": "stream",
          "name": "stdout",
          "text": [
            "CPU times: user 19 ms, sys: 21 µs, total: 19 ms\n",
            "Wall time: 19 ms\n"
          ]
        },
        {
          "output_type": "execute_result",
          "data": {
            "text/plain": [
              "499999500000"
            ]
          },
          "metadata": {},
          "execution_count": 6
        }
      ],
      "source": [
        "%time sum(range(1_000_000))"
      ],
      "id": "AuXdhud2lxwY"
    },
    {
      "cell_type": "code",
      "execution_count": 7,
      "metadata": {
        "id": "QTP68c43lxwZ",
        "outputId": "3a241ad3-637c-4118-a3a0-12f0d046f22b",
        "colab": {
          "base_uri": "https://localhost:8080/"
        }
      },
      "outputs": [
        {
          "output_type": "stream",
          "name": "stdout",
          "text": [
            "45.4 ms ± 11.5 ms per loop (mean ± std. dev. of 7 runs, 10 loops each)\n"
          ]
        }
      ],
      "source": [
        "%timeit sum(range(1_000_000))"
      ],
      "id": "QTP68c43lxwZ"
    },
    {
      "cell_type": "code",
      "execution_count": 8,
      "metadata": {
        "id": "88-ESN7rlxwZ",
        "outputId": "cdc8498d-4b6e-4029-d728-3942f4dbb4f4",
        "colab": {
          "base_uri": "https://localhost:8080/"
        }
      },
      "outputs": [
        {
          "output_type": "stream",
          "name": "stdout",
          "text": [
            "CPU times: user 132 ms, sys: 1.06 ms, total: 133 ms\n",
            "Wall time: 133 ms\n"
          ]
        }
      ],
      "source": [
        "%%time\n",
        "total = 0\n",
        "for i in range(1_000_000):\n",
        "    total += i"
      ],
      "id": "88-ESN7rlxwZ"
    },
    {
      "cell_type": "markdown",
      "metadata": {
        "id": "dUVlp4M_lxwZ"
      },
      "source": [
        "## 2. Working with Files"
      ],
      "id": "dUVlp4M_lxwZ"
    },
    {
      "cell_type": "code",
      "execution_count": 11,
      "metadata": {
        "id": "EhEVElV2lxwZ",
        "outputId": "59dbca01-1ff6-4f6c-9370-ec32bd2ebf4a",
        "colab": {
          "base_uri": "https://localhost:8080/",
          "height": 35
        }
      },
      "outputs": [
        {
          "output_type": "execute_result",
          "data": {
            "text/plain": [
              "'/content'"
            ],
            "application/vnd.google.colaboratory.intrinsic+json": {
              "type": "string"
            }
          },
          "metadata": {},
          "execution_count": 11
        }
      ],
      "source": [
        "%pwd"
      ],
      "id": "EhEVElV2lxwZ"
    },
    {
      "cell_type": "code",
      "execution_count": 12,
      "metadata": {
        "id": "Px_Xv234lxwa",
        "outputId": "6b65fea5-abb6-4157-dd97-3190f3158387",
        "colab": {
          "base_uri": "https://localhost:8080/"
        }
      },
      "outputs": [
        {
          "output_type": "stream",
          "name": "stdout",
          "text": [
            "\u001b[0m\u001b[01;34msample_data\u001b[0m/\n"
          ]
        }
      ],
      "source": [
        "%ls"
      ],
      "id": "Px_Xv234lxwa"
    },
    {
      "cell_type": "code",
      "execution_count": 13,
      "metadata": {
        "id": "Zjlc_Dxylxwa",
        "outputId": "953e844d-40a9-4448-a85d-ba5113c94d6b",
        "colab": {
          "base_uri": "https://localhost:8080/",
          "height": 52
        }
      },
      "outputs": [
        {
          "output_type": "stream",
          "name": "stdout",
          "text": [
            "/\n"
          ]
        },
        {
          "output_type": "execute_result",
          "data": {
            "text/plain": [
              "'/'"
            ],
            "application/vnd.google.colaboratory.intrinsic+json": {
              "type": "string"
            }
          },
          "metadata": {},
          "execution_count": 13
        }
      ],
      "source": [
        "%cd ..\n",
        "%pwd"
      ],
      "id": "Zjlc_Dxylxwa"
    },
    {
      "cell_type": "markdown",
      "metadata": {
        "id": "LZr9RK_plxwa"
      },
      "source": [
        "## 3. Variables in Memory"
      ],
      "id": "LZr9RK_plxwa"
    },
    {
      "cell_type": "code",
      "execution_count": null,
      "metadata": {
        "id": "CZ8lTFcJlxwa",
        "outputId": "93497bd6-171a-498b-986b-5f622e95eb83"
      },
      "outputs": [
        {
          "name": "stdout",
          "output_type": "stream",
          "text": [
            "a\t b\t c\t \n"
          ]
        }
      ],
      "source": [
        "a = 42\n",
        "b = [1, 2, 3]\n",
        "c = {\"name\": \"Graylian\"}\n",
        "\n",
        "%who"
      ],
      "id": "CZ8lTFcJlxwa"
    },
    {
      "cell_type": "code",
      "execution_count": null,
      "metadata": {
        "id": "ZMOTtbyylxwa",
        "outputId": "d59bd610-68d6-4c52-8eb2-9e0ea0d7eb01"
      },
      "outputs": [
        {
          "name": "stdout",
          "output_type": "stream",
          "text": [
            "Variable   Type    Data/Info\n",
            "----------------------------\n",
            "a          int     42\n",
            "b          list    n=3\n",
            "c          dict    n=1\n"
          ]
        }
      ],
      "source": [
        "%whos"
      ],
      "id": "ZMOTtbyylxwa"
    },
    {
      "cell_type": "code",
      "execution_count": null,
      "metadata": {
        "id": "hy93oa2Clxwb"
      },
      "outputs": [],
      "source": [
        "# %reset"
      ],
      "id": "hy93oa2Clxwb"
    },
    {
      "cell_type": "markdown",
      "metadata": {
        "id": "9qEf7QtAlxwb"
      },
      "source": [
        "## 4. Debugging and Introspection"
      ],
      "id": "9qEf7QtAlxwb"
    },
    {
      "cell_type": "code",
      "execution_count": 14,
      "metadata": {
        "id": "4ThcoFc9lxwb",
        "outputId": "f04e1f17-e8d1-4141-e1ca-d1c5a233a5dd",
        "colab": {
          "base_uri": "https://localhost:8080/",
          "height": 141
        }
      },
      "outputs": [
        {
          "output_type": "error",
          "ename": "ZeroDivisionError",
          "evalue": "division by zero",
          "traceback": [
            "\u001b[0;31m---------------------------------------------------------------------------\u001b[0m",
            "\u001b[0;31mZeroDivisionError\u001b[0m                         Traceback (most recent call last)",
            "\u001b[0;32m/tmp/ipython-input-1455669704.py\u001b[0m in \u001b[0;36m<cell line: 0>\u001b[0;34m()\u001b[0m\n\u001b[0;32m----> 1\u001b[0;31m \u001b[0;36m1\u001b[0m \u001b[0;34m/\u001b[0m \u001b[0;36m0\u001b[0m\u001b[0;34m\u001b[0m\u001b[0;34m\u001b[0m\u001b[0m\n\u001b[0m",
            "\u001b[0;31mZeroDivisionError\u001b[0m: division by zero"
          ]
        }
      ],
      "source": [
        "1 / 0"
      ],
      "id": "4ThcoFc9lxwb"
    },
    {
      "cell_type": "code",
      "execution_count": 16,
      "metadata": {
        "id": "eZaX3Xy3lxwb",
        "outputId": "3e650cc9-a62a-4d46-a1fc-4d9f3c2949a6",
        "colab": {
          "base_uri": "https://localhost:8080/"
        }
      },
      "outputs": [
        {
          "output_type": "stream",
          "name": "stdout",
          "text": [
            "> \u001b[0;32m/usr/local/lib/python3.12/dist-packages/ipykernel/kernelbase.py\u001b[0m(1219)\u001b[0;36m_input_request\u001b[0;34m()\u001b[0m\n",
            "\u001b[0;32m   1217 \u001b[0;31m            \u001b[0;32mexcept\u001b[0m \u001b[0mKeyboardInterrupt\u001b[0m\u001b[0;34m:\u001b[0m\u001b[0;34m\u001b[0m\u001b[0;34m\u001b[0m\u001b[0m\n",
            "\u001b[0m\u001b[0;32m   1218 \u001b[0;31m                \u001b[0;31m# re-raise KeyboardInterrupt, to truncate traceback\u001b[0m\u001b[0;34m\u001b[0m\u001b[0;34m\u001b[0m\u001b[0m\n",
            "\u001b[0m\u001b[0;32m-> 1219 \u001b[0;31m                \u001b[0;32mraise\u001b[0m \u001b[0mKeyboardInterrupt\u001b[0m\u001b[0;34m(\u001b[0m\u001b[0;34m\"Interrupted by user\"\u001b[0m\u001b[0;34m)\u001b[0m \u001b[0;32mfrom\u001b[0m \u001b[0;32mNone\u001b[0m\u001b[0;34m\u001b[0m\u001b[0;34m\u001b[0m\u001b[0m\n",
            "\u001b[0m\u001b[0;32m   1220 \u001b[0;31m            \u001b[0;32mexcept\u001b[0m \u001b[0mException\u001b[0m\u001b[0;34m:\u001b[0m\u001b[0;34m\u001b[0m\u001b[0;34m\u001b[0m\u001b[0m\n",
            "\u001b[0m\u001b[0;32m   1221 \u001b[0;31m                \u001b[0mself\u001b[0m\u001b[0;34m.\u001b[0m\u001b[0mlog\u001b[0m\u001b[0;34m.\u001b[0m\u001b[0mwarning\u001b[0m\u001b[0;34m(\u001b[0m\u001b[0;34m\"Invalid Message:\"\u001b[0m\u001b[0;34m,\u001b[0m \u001b[0mexc_info\u001b[0m\u001b[0;34m=\u001b[0m\u001b[0;32mTrue\u001b[0m\u001b[0;34m)\u001b[0m\u001b[0;34m\u001b[0m\u001b[0;34m\u001b[0m\u001b[0m\n",
            "\u001b[0m\n",
            "ipdb> 1/0\n",
            "*** ZeroDivisionError: division by zero\n",
            "ipdb> 2 + 2\n",
            "4\n",
            "--KeyboardInterrupt--\n",
            "\n",
            "KeyboardInterrupt: Interrupted by user\n"
          ]
        }
      ],
      "source": [
        "%debug"
      ],
      "id": "eZaX3Xy3lxwb"
    },
    {
      "cell_type": "markdown",
      "metadata": {
        "id": "iKD0rYXDlxwb"
      },
      "source": [
        "## 5. Writing and Running Files"
      ],
      "id": "iKD0rYXDlxwb"
    },
    {
      "cell_type": "code",
      "execution_count": 20,
      "metadata": {
        "id": "52CgTkgNlxwb",
        "outputId": "6600e557-0a18-4739-dc66-d61d5bf62c01",
        "colab": {
          "base_uri": "https://localhost:8080/"
        }
      },
      "outputs": [
        {
          "output_type": "stream",
          "name": "stdout",
          "text": [
            "Overwriting hello.py\n"
          ]
        }
      ],
      "source": [
        "%%writefile hello.py\n",
        "print(\"Hello from a file!\")"
      ],
      "id": "52CgTkgNlxwb"
    },
    {
      "cell_type": "code",
      "execution_count": 21,
      "metadata": {
        "id": "du2CJTrBlxwb",
        "outputId": "cd5b36d5-b37d-44bd-928c-fe3b447a152e",
        "colab": {
          "base_uri": "https://localhost:8080/"
        }
      },
      "outputs": [
        {
          "output_type": "stream",
          "name": "stdout",
          "text": [
            "Hello from a file!\n"
          ]
        }
      ],
      "source": [
        "%run hello.py"
      ],
      "id": "du2CJTrBlxwb"
    },
    {
      "cell_type": "markdown",
      "metadata": {
        "id": "9NtxpO5Qlxwc"
      },
      "source": [
        "## 6. Output and Formatting"
      ],
      "id": "9NtxpO5Qlxwc"
    },
    {
      "cell_type": "code",
      "execution_count": 26,
      "metadata": {
        "id": "lejQN2zLlxwc"
      },
      "outputs": [],
      "source": [
        "%%capture cap\n",
        "print(\"This will not display right away\")\n",
        "\n",
        "cap.show()"
      ],
      "id": "lejQN2zLlxwc"
    },
    {
      "cell_type": "code",
      "execution_count": 27,
      "metadata": {
        "id": "kL9iKbchlxwc",
        "outputId": "ac0454a2-a726-4a5a-f0b0-617ccab623b2",
        "colab": {
          "base_uri": "https://localhost:8080/",
          "height": 74
        }
      },
      "outputs": [
        {
          "output_type": "display_data",
          "data": {
            "text/plain": [
              "<IPython.core.display.HTML object>"
            ],
            "text/html": [
              "<h1 style=\"color: maroon\">Magics are Magical ✨</h1>\n"
            ]
          },
          "metadata": {}
        }
      ],
      "source": [
        "%%html\n",
        "<h1 style=\"color: maroon\">Magics are Magical ✨</h1>"
      ],
      "id": "kL9iKbchlxwc"
    },
    {
      "cell_type": "code",
      "execution_count": 28,
      "metadata": {
        "id": "NcEJsOTNlxwc",
        "outputId": "442715fe-79fe-4d2e-c198-852687ffbc39",
        "colab": {
          "base_uri": "https://localhost:8080/",
          "height": 100
        }
      },
      "outputs": [
        {
          "output_type": "display_data",
          "data": {
            "text/plain": [
              "<IPython.core.display.Markdown object>"
            ],
            "text/markdown": "# This is a Markdown cell inside code!\n**Bold text** and *italic* still work.\n"
          },
          "metadata": {}
        }
      ],
      "source": [
        "%%markdown\n",
        "# This is a Markdown cell inside code!\n",
        "**Bold text** and *italic* still work."
      ],
      "id": "NcEJsOTNlxwc"
    },
    {
      "cell_type": "markdown",
      "metadata": {
        "id": "58TW2-RKlxwc"
      },
      "source": [
        "## 7. Discover More"
      ],
      "id": "58TW2-RKlxwc"
    },
    {
      "cell_type": "code",
      "execution_count": 29,
      "metadata": {
        "id": "Yr9qjeitlxwc",
        "outputId": "b07c1c93-a77f-4983-a140-71d4e99b4246",
        "colab": {
          "base_uri": "https://localhost:8080/",
          "height": 1000
        }
      },
      "outputs": [
        {
          "output_type": "execute_result",
          "data": {
            "text/plain": [
              "Available line magics:\n",
              "%alias  %alias_magic  %autoawait  %autocall  %automagic  %autosave  %bookmark  %cat  %cd  %clear  %colors  %conda  %config  %connect_info  %cp  %debug  %dhist  %dirs  %doctest_mode  %ed  %edit  %env  %gui  %hist  %history  %killbgscripts  %ldir  %less  %lf  %lk  %ll  %load  %load_ext  %loadpy  %logoff  %logon  %logstart  %logstate  %logstop  %ls  %lsmagic  %lx  %macro  %magic  %man  %matplotlib  %mkdir  %more  %mv  %notebook  %page  %pastebin  %pdb  %pdef  %pdoc  %pfile  %pinfo  %pinfo2  %pip  %popd  %pprint  %precision  %prun  %psearch  %psource  %pushd  %pwd  %pycat  %pylab  %qtconsole  %quickref  %recall  %rehashx  %reload_ext  %rep  %rerun  %reset  %reset_selective  %rm  %rmdir  %run  %save  %sc  %set_env  %shell  %store  %sx  %system  %tb  %tensorflow_version  %time  %timeit  %unalias  %unload_ext  %who  %who_ls  %whos  %xdel  %xmode\n",
              "\n",
              "Available cell magics:\n",
              "%%!  %%HTML  %%SVG  %%bash  %%bigquery  %%capture  %%debug  %%file  %%html  %%javascript  %%js  %%latex  %%markdown  %%perl  %%prun  %%pypy  %%python  %%python2  %%python3  %%ruby  %%script  %%sh  %%shell  %%spanner_graph  %%svg  %%sx  %%system  %%time  %%timeit  %%writefile\n",
              "\n",
              "Automagic is ON, % prefix IS NOT needed for line magics."
            ],
            "application/json": {
              "line": {
                "automagic": "AutoMagics",
                "autocall": "AutoMagics",
                "alias_magic": "BasicMagics",
                "lsmagic": "BasicMagics",
                "magic": "BasicMagics",
                "page": "BasicMagics",
                "pprint": "BasicMagics",
                "colors": "BasicMagics",
                "xmode": "BasicMagics",
                "quickref": "BasicMagics",
                "doctest_mode": "BasicMagics",
                "gui": "BasicMagics",
                "precision": "BasicMagics",
                "notebook": "BasicMagics",
                "save": "CodeMagics",
                "pastebin": "CodeMagics",
                "loadpy": "CodeMagics",
                "load": "CodeMagics",
                "edit": "KernelMagics",
                "config": "ConfigMagics",
                "prun": "ExecutionMagics",
                "pdb": "ExecutionMagics",
                "debug": "ExecutionMagics",
                "tb": "ExecutionMagics",
                "run": "ExecutionMagics",
                "timeit": "ExecutionMagics",
                "time": "ExecutionMagics",
                "macro": "ExecutionMagics",
                "load_ext": "ExtensionMagics",
                "unload_ext": "ExtensionMagics",
                "reload_ext": "ExtensionMagics",
                "history": "HistoryMagics",
                "recall": "HistoryMagics",
                "rerun": "HistoryMagics",
                "logstart": "LoggingMagics",
                "logstop": "LoggingMagics",
                "logoff": "LoggingMagics",
                "logon": "LoggingMagics",
                "logstate": "LoggingMagics",
                "pinfo": "NamespaceMagics",
                "pinfo2": "NamespaceMagics",
                "pdef": "NamespaceMagics",
                "pdoc": "NamespaceMagics",
                "psource": "NamespaceMagics",
                "pfile": "NamespaceMagics",
                "psearch": "NamespaceMagics",
                "who_ls": "NamespaceMagics",
                "who": "NamespaceMagics",
                "whos": "NamespaceMagics",
                "reset": "NamespaceMagics",
                "reset_selective": "NamespaceMagics",
                "xdel": "NamespaceMagics",
                "alias": "OSMagics",
                "unalias": "OSMagics",
                "rehashx": "OSMagics",
                "pwd": "OSMagics",
                "cd": "OSMagics",
                "env": "OSMagics",
                "set_env": "OSMagics",
                "pushd": "OSMagics",
                "popd": "OSMagics",
                "dirs": "OSMagics",
                "dhist": "OSMagics",
                "sc": "OSMagics",
                "sx": "OSMagics",
                "system": "OSMagics",
                "bookmark": "OSMagics",
                "pycat": "OSMagics",
                "pip": "Other",
                "conda": "PackagingMagics",
                "matplotlib": "PylabMagics",
                "pylab": "PylabMagics",
                "killbgscripts": "ScriptMagics",
                "autoawait": "AsyncMagics",
                "ed": "Other",
                "hist": "Other",
                "rep": "Other",
                "clear": "KernelMagics",
                "less": "KernelMagics",
                "more": "KernelMagics",
                "man": "KernelMagics",
                "connect_info": "KernelMagics",
                "qtconsole": "KernelMagics",
                "autosave": "KernelMagics",
                "mkdir": "Other",
                "rmdir": "Other",
                "mv": "Other",
                "rm": "Other",
                "cp": "Other",
                "cat": "Other",
                "ls": "Other",
                "ll": "Other",
                "lf": "Other",
                "lk": "Other",
                "ldir": "Other",
                "lx": "Other",
                "store": "StoreMagics",
                "shell": "Other",
                "tensorflow_version": "Other"
              },
              "cell": {
                "js": "DisplayMagics",
                "javascript": "DisplayMagics",
                "latex": "DisplayMagics",
                "svg": "DisplayMagics",
                "html": "DisplayMagics",
                "markdown": "DisplayMagics",
                "prun": "ExecutionMagics",
                "debug": "ExecutionMagics",
                "timeit": "ExecutionMagics",
                "time": "ExecutionMagics",
                "capture": "ExecutionMagics",
                "sx": "OSMagics",
                "system": "OSMagics",
                "!": "OSMagics",
                "writefile": "OSMagics",
                "script": "ScriptMagics",
                "sh": "Other",
                "bash": "Other",
                "perl": "Other",
                "ruby": "Other",
                "python": "Other",
                "python2": "Other",
                "python3": "Other",
                "pypy": "Other",
                "SVG": "Other",
                "HTML": "Other",
                "file": "Other",
                "bigquery": "Other",
                "spanner_graph": "Other",
                "shell": "Other"
              }
            }
          },
          "metadata": {},
          "execution_count": 29
        }
      ],
      "source": [
        "%lsmagic"
      ],
      "id": "Yr9qjeitlxwc"
    },
    {
      "cell_type": "code",
      "execution_count": 31,
      "metadata": {
        "id": "ALmFaJ43lxwc"
      },
      "outputs": [],
      "source": [
        "%timeit?"
      ],
      "id": "ALmFaJ43lxwc"
    },
    {
      "cell_type": "markdown",
      "metadata": {
        "id": "YWIsyYsBlxwc"
      },
      "source": [
        "✅ **Try It Yourself**:  \n",
        "- Use `%timeit` to compare a list comprehension `[x**2 for x in range(1000)]` vs a generator `(x**2 for x in range(1000))`.  \n",
        "- Use `%whos` after defining some variables to see their types.  \n",
        "- Use `%%html` to make your own banner."
      ],
      "id": "YWIsyYsBlxwc"
    },
    {
      "cell_type": "code",
      "source": [
        "%timeit [x**2 for x in range(1000)]\n",
        "%timeit (x**2 for x in range(1000))"
      ],
      "metadata": {
        "id": "pt5Odvi7m0hq",
        "outputId": "a521465b-ca02-4241-8a2c-2370b43242ae",
        "colab": {
          "base_uri": "https://localhost:8080/"
        }
      },
      "id": "pt5Odvi7m0hq",
      "execution_count": 33,
      "outputs": [
        {
          "output_type": "stream",
          "name": "stdout",
          "text": [
            "68.8 µs ± 1.49 µs per loop (mean ± std. dev. of 7 runs, 10000 loops each)\n",
            "293 ns ± 12.3 ns per loop (mean ± std. dev. of 7 runs, 1000000 loops each)\n"
          ]
        }
      ]
    },
    {
      "cell_type": "code",
      "source": [
        "number = 1\n",
        "name = \"Messi\"\n",
        "someList = [1,2,3,4]\n",
        "%whos"
      ],
      "metadata": {
        "id": "wU_emuWinFnP",
        "outputId": "6ca0ec0b-01ab-493e-d92f-a43f3cdf0e48",
        "colab": {
          "base_uri": "https://localhost:8080/"
        }
      },
      "id": "wU_emuWinFnP",
      "execution_count": 36,
      "outputs": [
        {
          "output_type": "stream",
          "name": "stdout",
          "text": [
            "Variable   Type          Data/Info\n",
            "----------------------------------\n",
            "cap        CapturedIO    This will not display rig<...> not display right away\\n\n",
            "i          int           999999\n",
            "name       str           Messi\n",
            "number     int           1\n",
            "someList   list          n=4\n",
            "total      int           499999500000\n",
            "var        int           1\n"
          ]
        }
      ]
    },
    {
      "cell_type": "code",
      "source": [
        "%%html\n",
        "<h1>This is Header1</h1>\n",
        "<h2>This is Header2</h1>\n",
        "<p>This is normal text using p</p>\n",
        "<br></br>\n",
        "<p>Another line of p after using br to line break</p>"
      ],
      "metadata": {
        "id": "lqgfgvQ7nhhF",
        "outputId": "a5cbef92-b61c-4024-d922-ff107600d0e3",
        "colab": {
          "base_uri": "https://localhost:8080/",
          "height": 207
        }
      },
      "id": "lqgfgvQ7nhhF",
      "execution_count": 38,
      "outputs": [
        {
          "output_type": "display_data",
          "data": {
            "text/plain": [
              "<IPython.core.display.HTML object>"
            ],
            "text/html": [
              "<h1>This is Header1</h1> \n",
              "<h2>This is Header2</h1>\n",
              "<p>This is normal text using p</p>\n",
              "<br></br>\n",
              "<p>Another line of p after using br to line break</p>\n"
            ]
          },
          "metadata": {}
        }
      ]
    }
  ],
  "metadata": {
    "kernelspec": {
      "display_name": "env",
      "language": "python",
      "name": "python3"
    },
    "language_info": {
      "codemirror_mode": {
        "name": "ipython",
        "version": 3
      },
      "file_extension": ".py",
      "mimetype": "text/x-python",
      "name": "python",
      "nbconvert_exporter": "python",
      "pygments_lexer": "ipython3",
      "version": "3.13.7"
    },
    "colab": {
      "provenance": []
    }
  },
  "nbformat": 4,
  "nbformat_minor": 5
}